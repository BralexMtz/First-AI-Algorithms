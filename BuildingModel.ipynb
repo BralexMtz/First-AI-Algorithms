{
  "nbformat": 4,
  "nbformat_minor": 0,
  "metadata": {
    "colab": {
      "name": "BuildingModel.ipynb",
      "provenance": [],
      "collapsed_sections": [
        "IDiAeAm-7ohZ"
      ],
      "include_colab_link": true
    },
    "kernelspec": {
      "name": "python3",
      "display_name": "Python 3"
    },
    "widgets": {
      "application/vnd.jupyter.widget-state+json": {
        "997c2a13aaad423498c0a9231577a225": {
          "model_module": "@jupyter-widgets/controls",
          "model_name": "HBoxModel",
          "state": {
            "_view_name": "HBoxView",
            "_dom_classes": [],
            "_model_name": "HBoxModel",
            "_view_module": "@jupyter-widgets/controls",
            "_model_module_version": "1.5.0",
            "_view_count": null,
            "_view_module_version": "1.5.0",
            "box_style": "",
            "layout": "IPY_MODEL_fd73950ea60b4c0ea0472de088a2b071",
            "_model_module": "@jupyter-widgets/controls",
            "children": [
              "IPY_MODEL_3c19893c9d424fd3b8ec70e4bdfd7103",
              "IPY_MODEL_6fb91011e812418d99f0d47bd7ae6a63"
            ]
          }
        },
        "fd73950ea60b4c0ea0472de088a2b071": {
          "model_module": "@jupyter-widgets/base",
          "model_name": "LayoutModel",
          "state": {
            "_view_name": "LayoutView",
            "grid_template_rows": null,
            "right": null,
            "justify_content": null,
            "_view_module": "@jupyter-widgets/base",
            "overflow": null,
            "_model_module_version": "1.2.0",
            "_view_count": null,
            "flex_flow": null,
            "width": null,
            "min_width": null,
            "border": null,
            "align_items": null,
            "bottom": null,
            "_model_module": "@jupyter-widgets/base",
            "top": null,
            "grid_column": null,
            "overflow_y": null,
            "overflow_x": null,
            "grid_auto_flow": null,
            "grid_area": null,
            "grid_template_columns": null,
            "flex": null,
            "_model_name": "LayoutModel",
            "justify_items": null,
            "grid_row": null,
            "max_height": null,
            "align_content": null,
            "visibility": null,
            "align_self": null,
            "height": null,
            "min_height": null,
            "padding": null,
            "grid_auto_rows": null,
            "grid_gap": null,
            "max_width": null,
            "order": null,
            "_view_module_version": "1.2.0",
            "grid_template_areas": null,
            "object_position": null,
            "object_fit": null,
            "grid_auto_columns": null,
            "margin": null,
            "display": null,
            "left": null
          }
        },
        "3c19893c9d424fd3b8ec70e4bdfd7103": {
          "model_module": "@jupyter-widgets/controls",
          "model_name": "FloatProgressModel",
          "state": {
            "_view_name": "ProgressView",
            "style": "IPY_MODEL_891c95ae8bbd4c6ca347be9b4cd67600",
            "_dom_classes": [],
            "description": "",
            "_model_name": "FloatProgressModel",
            "bar_style": "success",
            "max": 1,
            "_view_module": "@jupyter-widgets/controls",
            "_model_module_version": "1.5.0",
            "value": 1,
            "_view_count": null,
            "_view_module_version": "1.5.0",
            "orientation": "horizontal",
            "min": 0,
            "description_tooltip": null,
            "_model_module": "@jupyter-widgets/controls",
            "layout": "IPY_MODEL_3066a770a21f4607b6f496b58b516098"
          }
        },
        "6fb91011e812418d99f0d47bd7ae6a63": {
          "model_module": "@jupyter-widgets/controls",
          "model_name": "HTMLModel",
          "state": {
            "_view_name": "HTMLView",
            "style": "IPY_MODEL_0878655f29fb458f9fcd14b2c9189d9f",
            "_dom_classes": [],
            "description": "",
            "_model_name": "HTMLModel",
            "placeholder": "​",
            "_view_module": "@jupyter-widgets/controls",
            "_model_module_version": "1.5.0",
            "value": " 170500096/? [00:07&lt;00:00, 23521318.62it/s]",
            "_view_count": null,
            "_view_module_version": "1.5.0",
            "description_tooltip": null,
            "_model_module": "@jupyter-widgets/controls",
            "layout": "IPY_MODEL_39239b18d76247bfa2db63bf0af8f355"
          }
        },
        "891c95ae8bbd4c6ca347be9b4cd67600": {
          "model_module": "@jupyter-widgets/controls",
          "model_name": "ProgressStyleModel",
          "state": {
            "_view_name": "StyleView",
            "_model_name": "ProgressStyleModel",
            "description_width": "initial",
            "_view_module": "@jupyter-widgets/base",
            "_model_module_version": "1.5.0",
            "_view_count": null,
            "_view_module_version": "1.2.0",
            "bar_color": null,
            "_model_module": "@jupyter-widgets/controls"
          }
        },
        "3066a770a21f4607b6f496b58b516098": {
          "model_module": "@jupyter-widgets/base",
          "model_name": "LayoutModel",
          "state": {
            "_view_name": "LayoutView",
            "grid_template_rows": null,
            "right": null,
            "justify_content": null,
            "_view_module": "@jupyter-widgets/base",
            "overflow": null,
            "_model_module_version": "1.2.0",
            "_view_count": null,
            "flex_flow": null,
            "width": null,
            "min_width": null,
            "border": null,
            "align_items": null,
            "bottom": null,
            "_model_module": "@jupyter-widgets/base",
            "top": null,
            "grid_column": null,
            "overflow_y": null,
            "overflow_x": null,
            "grid_auto_flow": null,
            "grid_area": null,
            "grid_template_columns": null,
            "flex": null,
            "_model_name": "LayoutModel",
            "justify_items": null,
            "grid_row": null,
            "max_height": null,
            "align_content": null,
            "visibility": null,
            "align_self": null,
            "height": null,
            "min_height": null,
            "padding": null,
            "grid_auto_rows": null,
            "grid_gap": null,
            "max_width": null,
            "order": null,
            "_view_module_version": "1.2.0",
            "grid_template_areas": null,
            "object_position": null,
            "object_fit": null,
            "grid_auto_columns": null,
            "margin": null,
            "display": null,
            "left": null
          }
        },
        "0878655f29fb458f9fcd14b2c9189d9f": {
          "model_module": "@jupyter-widgets/controls",
          "model_name": "DescriptionStyleModel",
          "state": {
            "_view_name": "StyleView",
            "_model_name": "DescriptionStyleModel",
            "description_width": "",
            "_view_module": "@jupyter-widgets/base",
            "_model_module_version": "1.5.0",
            "_view_count": null,
            "_view_module_version": "1.2.0",
            "_model_module": "@jupyter-widgets/controls"
          }
        },
        "39239b18d76247bfa2db63bf0af8f355": {
          "model_module": "@jupyter-widgets/base",
          "model_name": "LayoutModel",
          "state": {
            "_view_name": "LayoutView",
            "grid_template_rows": null,
            "right": null,
            "justify_content": null,
            "_view_module": "@jupyter-widgets/base",
            "overflow": null,
            "_model_module_version": "1.2.0",
            "_view_count": null,
            "flex_flow": null,
            "width": null,
            "min_width": null,
            "border": null,
            "align_items": null,
            "bottom": null,
            "_model_module": "@jupyter-widgets/base",
            "top": null,
            "grid_column": null,
            "overflow_y": null,
            "overflow_x": null,
            "grid_auto_flow": null,
            "grid_area": null,
            "grid_template_columns": null,
            "flex": null,
            "_model_name": "LayoutModel",
            "justify_items": null,
            "grid_row": null,
            "max_height": null,
            "align_content": null,
            "visibility": null,
            "align_self": null,
            "height": null,
            "min_height": null,
            "padding": null,
            "grid_auto_rows": null,
            "grid_gap": null,
            "max_width": null,
            "order": null,
            "_view_module_version": "1.2.0",
            "grid_template_areas": null,
            "object_position": null,
            "object_fit": null,
            "grid_auto_columns": null,
            "margin": null,
            "display": null,
            "left": null
          }
        }
      }
    }
  },
  "cells": [
    {
      "cell_type": "markdown",
      "metadata": {
        "id": "view-in-github",
        "colab_type": "text"
      },
      "source": [
        "<a href=\"https://colab.research.google.com/github/BralexMtz/First-AI-Algorithms/blob/main/BuildingModel.ipynb\" target=\"_parent\"><img src=\"https://colab.research.google.com/assets/colab-badge.svg\" alt=\"Open In Colab\"/></a>"
      ]
    },
    {
      "cell_type": "code",
      "metadata": {
        "id": "9RXasZc96azR"
      },
      "source": [
        "import torch\n",
        "import torch.nn as nn\n",
        "import torch.optim as optim\n",
        "\n",
        "from torchvision import utils\n",
        "from torchvision import datasets\n",
        "from torchvision import transforms\n",
        "\n",
        "from PIL import Image\n",
        "import urllib.request as request\n",
        "from matplotlib import pyplot as plt\n",
        "#torch.set_printoptions(edgeitems=2) #default 3\n",
        "#torch.manual_seed(123)"
      ],
      "execution_count": 1,
      "outputs": []
    },
    {
      "cell_type": "markdown",
      "metadata": {
        "id": "e5L9silu7aHy"
      },
      "source": [
        "# Construyendo modelo\n",
        "---\n",
        "\n"
      ]
    },
    {
      "cell_type": "code",
      "metadata": {
        "id": "ACu8_bbC6bOx",
        "colab": {
          "base_uri": "https://localhost:8080/",
          "height": 102,
          "referenced_widgets": [
            "997c2a13aaad423498c0a9231577a225",
            "fd73950ea60b4c0ea0472de088a2b071",
            "3c19893c9d424fd3b8ec70e4bdfd7103",
            "6fb91011e812418d99f0d47bd7ae6a63",
            "891c95ae8bbd4c6ca347be9b4cd67600",
            "3066a770a21f4607b6f496b58b516098",
            "0878655f29fb458f9fcd14b2c9189d9f",
            "39239b18d76247bfa2db63bf0af8f355"
          ]
        },
        "outputId": "6b69aecf-c3d4-4077-d636-e7a42ab64720"
      },
      "source": [
        "data_path = 'data/'\n",
        "full_data_set = datasets.CIFAR10(data_path, train=True, download=True,\n",
        "                          transform=transforms.Compose([\n",
        "                              transforms.ToTensor(),\n",
        "                              transforms.Normalize((0.4915, 0.4823, 0.4468),\n",
        "                                                   (0.2470, 0.2435, 0.2616))\n",
        "                          ]))\n",
        "\n",
        "full_validation_set = datasets.CIFAR10(data_path, train=False, download=True,\n",
        "                          transform=transforms.Compose([\n",
        "                              transforms.ToTensor(),\n",
        "                              transforms.Normalize((0.4915, 0.4823, 0.4468),\n",
        "                                                   (0.2470, 0.2435, 0.2616))\n",
        "                          ]))"
      ],
      "execution_count": 2,
      "outputs": [
        {
          "output_type": "stream",
          "text": [
            "Downloading https://www.cs.toronto.edu/~kriz/cifar-10-python.tar.gz to data/cifar-10-python.tar.gz\n"
          ],
          "name": "stdout"
        },
        {
          "output_type": "display_data",
          "data": {
            "application/vnd.jupyter.widget-view+json": {
              "model_id": "997c2a13aaad423498c0a9231577a225",
              "version_minor": 0,
              "version_major": 2
            },
            "text/plain": [
              "HBox(children=(FloatProgress(value=1.0, bar_style='info', max=1.0), HTML(value='')))"
            ]
          },
          "metadata": {
            "tags": []
          }
        },
        {
          "output_type": "stream",
          "text": [
            "Extracting data/cifar-10-python.tar.gz to data/\n",
            "Files already downloaded and verified\n"
          ],
          "name": "stdout"
        }
      ]
    },
    {
      "cell_type": "code",
      "metadata": {
        "id": "1K1-bRi_w0aN"
      },
      "source": [
        "size = 4\n",
        "dataloader = torch.utils.data.DataLoader(full_data_set, batch_size=size, shuffle=True, num_workers=2)"
      ],
      "execution_count": 3,
      "outputs": []
    },
    {
      "cell_type": "code",
      "metadata": {
        "id": "66BQ9Aisw3TK",
        "colab": {
          "base_uri": "https://localhost:8080/",
          "height": 244
        },
        "outputId": "3c4252a1-26cb-40c6-b516-eedfbc735911"
      },
      "source": [
        "data_iterator = iter(dataloader)\n",
        "imgs, labels = data_iterator.next()\n",
        "\n",
        "classes = ['plane','car','bird','cat','deer','dog','frog','horse','ship','truck']\n",
        "\n",
        "plt.imshow(utils.make_grid(imgs).permute(1, 2, 0))\n",
        "\n",
        "for i in range(size):\n",
        "  print(classes[labels[i]])"
      ],
      "execution_count": 4,
      "outputs": [
        {
          "output_type": "stream",
          "text": [
            "Clipping input data to the valid range for imshow with RGB data ([0..1] for floats or [0..255] for integers).\n"
          ],
          "name": "stderr"
        },
        {
          "output_type": "stream",
          "text": [
            "deer\n",
            "car\n",
            "ship\n",
            "horse\n"
          ],
          "name": "stdout"
        },
        {
          "output_type": "display_data",
          "data": {
            "image/png": "[encoded data removed]",
            "text/plain": [
              "<Figure size 432x288 with 1 Axes>"
            ]
          },
          "metadata": {
            "tags": [],
            "needs_background": "light"
          }
        },
        {
          "output_type": "stream",
          "text": [
            "\n"
          ],
          "name": "stdout"
        }
      ]
    },
    {
      "cell_type": "code",
      "metadata": {
        "id": "DEuSK3lg72y9"
      },
      "source": [
        "#classes = ['plane','car','bird','cat','deer','dog','frog','horse','ship','truck']\n",
        "class_names = ['car', 'cat']\n",
        "# mapeamos unicamente los carros y gatos\n",
        "label_map = {1: 0, 3: 1}\n",
        "# hacemos nuevos arreglos para el data_set y validation set a partir del mapeo anterior\n",
        "data_set = [(img, label_map[label]) for img, label in full_data_set if label in [1, 3]]\n",
        "validation_set = [(img, label_map[label]) for img, label in full_validation_set if label in [1, 3]]"
      ],
      "execution_count": 5,
      "outputs": []
    },
    {
      "cell_type": "code",
      "metadata": {
        "id": "u-D5FUhxmMVm",
        "colab": {
          "base_uri": "https://localhost:8080/"
        },
        "outputId": "095e85fd-f2e3-45ed-9e36-bac00c08734e"
      },
      "source": [
        "img, label = data_set[20]\n",
        "img.shape"
      ],
      "execution_count": 6,
      "outputs": [
        {
          "output_type": "execute_result",
          "data": {
            "text/plain": [
              "torch.Size([3, 32, 32])"
            ]
          },
          "metadata": {
            "tags": []
          },
          "execution_count": 6
        }
      ]
    },
    {
      "cell_type": "code",
      "metadata": {
        "id": "MmPgfaa28H26"
      },
      "source": [
        "model = nn.Sequential(\n",
        "            nn.Linear(3 * 32 * 32, 512), # ( shape, num arbitrario de neuronas)\n",
        "            nn.Tanh(), # funcion de activacion que puede ser otras opciones\n",
        "            nn.Linear(512, 2)) # ( numero intermedio de nodos  ,2 es por la clasificacion binaria )"
      ],
      "execution_count": 7,
      "outputs": []
    },
    {
      "cell_type": "code",
      "metadata": {
        "id": "K52tlaQ2nT8b"
      },
      "source": [
        "# como necesitamos probabilidad podemos usar\n",
        "# sigmoide o softmax\n",
        "def sigmoid(x):\n",
        "  return 1 / (1 + torch.exp(-x))"
      ],
      "execution_count": 8,
      "outputs": []
    },
    {
      "cell_type": "code",
      "metadata": {
        "id": "Pj37Q6TGosd9",
        "colab": {
          "base_uri": "https://localhost:8080/"
        },
        "outputId": "3911d8b2-8e98-46ba-f2ab-47f7e5cf0ada"
      },
      "source": [
        "x = torch.tensor([1.0, 2.0, 3.0])\n",
        "\n",
        "sigmoid(x)"
      ],
      "execution_count": 9,
      "outputs": [
        {
          "output_type": "execute_result",
          "data": {
            "text/plain": [
              "tensor([0.7311, 0.8808, 0.9526])"
            ]
          },
          "metadata": {
            "tags": []
          },
          "execution_count": 9
        }
      ]
    },
    {
      "cell_type": "code",
      "metadata": {
        "id": "FGjO0js4g1G5",
        "colab": {
          "base_uri": "https://localhost:8080/"
        },
        "outputId": "6de61b11-0b24-404f-8292-e451e5c9cbe7"
      },
      "source": [
        "sigmoid(x).sum()"
      ],
      "execution_count": 10,
      "outputs": [
        {
          "output_type": "execute_result",
          "data": {
            "text/plain": [
              "tensor(2.5644)"
            ]
          },
          "metadata": {
            "tags": []
          },
          "execution_count": 10
        }
      ]
    },
    {
      "cell_type": "code",
      "metadata": {
        "id": "C99THaK18LiJ"
      },
      "source": [
        "def softmax(x):\n",
        "    return torch.exp(x) / torch.exp(x).sum()"
      ],
      "execution_count": 11,
      "outputs": []
    },
    {
      "cell_type": "code",
      "metadata": {
        "id": "YlTU2MC_8L1M",
        "colab": {
          "base_uri": "https://localhost:8080/"
        },
        "outputId": "ba764ce5-5c22-48bb-e8fa-e772aea70720"
      },
      "source": [
        "softmax(x)"
      ],
      "execution_count": 12,
      "outputs": [
        {
          "output_type": "execute_result",
          "data": {
            "text/plain": [
              "tensor([0.0900, 0.2447, 0.6652])"
            ]
          },
          "metadata": {
            "tags": []
          },
          "execution_count": 12
        }
      ]
    },
    {
      "cell_type": "code",
      "metadata": {
        "id": "UwV2i3Mb8Uee",
        "colab": {
          "base_uri": "https://localhost:8080/"
        },
        "outputId": "9094e031-a9fd-4611-eccc-193ab43c1ad1"
      },
      "source": [
        "softmax(x).sum()"
      ],
      "execution_count": 13,
      "outputs": [
        {
          "output_type": "execute_result",
          "data": {
            "text/plain": [
              "tensor(1.)"
            ]
          },
          "metadata": {
            "tags": []
          },
          "execution_count": 13
        }
      ]
    },
    {
      "cell_type": "code",
      "metadata": {
        "id": "rM60o77E8liv",
        "colab": {
          "base_uri": "https://localhost:8080/"
        },
        "outputId": "77de6285-f650-423f-c0b1-219f756d3b65"
      },
      "source": [
        "softmax = nn.Softmax(dim=1)\n",
        "\n",
        "x = torch.tensor([[1.0, 2.0, 3.0],\n",
        "                  [1.0, 2.0, 3.0]])\n",
        "\n",
        "softmax(x)"
      ],
      "execution_count": 14,
      "outputs": [
        {
          "output_type": "execute_result",
          "data": {
            "text/plain": [
              "tensor([[0.0900, 0.2447, 0.6652],\n",
              "        [0.0900, 0.2447, 0.6652]])"
            ]
          },
          "metadata": {
            "tags": []
          },
          "execution_count": 14
        }
      ]
    },
    {
      "cell_type": "code",
      "metadata": {
        "id": "mGEXnFeA78at"
      },
      "source": [
        "model = nn.Sequential(\n",
        "            nn.Linear(3072, 512),\n",
        "            nn.Tanh(),\n",
        "            nn.Linear(512, 2),\n",
        "            nn.Softmax(dim=1)) # podemos usar softmax para obtener la probabilidad"
      ],
      "execution_count": 15,
      "outputs": []
    },
    {
      "cell_type": "code",
      "metadata": {
        "id": "3UuJi29S8aRI",
        "colab": {
          "base_uri": "https://localhost:8080/",
          "height": 302
        },
        "outputId": "2e2f661b-6a06-43d0-cab6-6b07cad81d37"
      },
      "source": [
        "img, label = data_set[20]\n",
        "\n",
        "plt.imshow(img.permute(1, 2, 0))\n",
        "class_names[label] # mostramos la etiqueta e imagen"
      ],
      "execution_count": 16,
      "outputs": [
        {
          "output_type": "stream",
          "text": [
            "Clipping input data to the valid range for imshow with RGB data ([0..1] for floats or [0..255] for integers).\n"
          ],
          "name": "stderr"
        },
        {
          "output_type": "execute_result",
          "data": {
            "application/vnd.google.colaboratory.intrinsic+json": {
              "type": "string"
            },
            "text/plain": [
              "'car'"
            ]
          },
          "metadata": {
            "tags": []
          },
          "execution_count": 16
        },
        {
          "output_type": "display_data",
          "data": {
            "image/png": "[encoded data removed]",
            "text/plain": [
              "<Figure size 432x288 with 1 Axes>"
            ]
          },
          "metadata": {
            "tags": [],
            "needs_background": "light"
          }
        }
      ]
    },
    {
      "cell_type": "code",
      "metadata": {
        "id": "-JIQi_2J9Lq0",
        "colab": {
          "base_uri": "https://localhost:8080/"
        },
        "outputId": "a3d30ee6-7cd2-436d-b3b1-3e21f3a1f6e2"
      },
      "source": [
        "# tensor con probabilidad y la dimension extra\n",
        "out = model(img.view(-1).unsqueeze(0))\n",
        "out"
      ],
      "execution_count": 17,
      "outputs": [
        {
          "output_type": "execute_result",
          "data": {
            "text/plain": [
              "tensor([[0.4725, 0.5275]], grad_fn=<SoftmaxBackward>)"
            ]
          },
          "metadata": {
            "tags": []
          },
          "execution_count": 17
        }
      ]
    },
    {
      "cell_type": "code",
      "metadata": {
        "id": "1SChUAvF9Mln",
        "colab": {
          "base_uri": "https://localhost:8080/"
        },
        "outputId": "d075b425-bcb0-4419-e838-f8772d435924"
      },
      "source": [
        "# traemos el indice\n",
        "_, index = torch.max(out, dim=1)\n",
        "# y con el indice la etiqueta\n",
        "print('->',class_names[label],' model:',class_names[index])"
      ],
      "execution_count": 18,
      "outputs": [
        {
          "output_type": "stream",
          "text": [
            "-> car  model: cat\n"
          ],
          "name": "stdout"
        }
      ]
    },
    {
      "cell_type": "code",
      "metadata": {
        "id": "E3TUnt7X-Diy",
        "colab": {
          "base_uri": "https://localhost:8080/"
        },
        "outputId": "a4b9bdec-ee20-47fd-d1e4-cc5b600753e6"
      },
      "source": [
        "softmax = nn.Softmax(dim=1)\n",
        "\n",
        "log_softmax = nn.LogSoftmax(dim=1)\n",
        "\n",
        "x = torch.tensor([[0.0, 110.0]])\n",
        "\n",
        "softmax(x)"
      ],
      "execution_count": 19,
      "outputs": [
        {
          "output_type": "execute_result",
          "data": {
            "text/plain": [
              "tensor([[0., 1.]])"
            ]
          },
          "metadata": {
            "tags": []
          },
          "execution_count": 19
        }
      ]
    },
    {
      "cell_type": "code",
      "metadata": {
        "id": "cCT2ej7C-O0t",
        "colab": {
          "base_uri": "https://localhost:8080/"
        },
        "outputId": "c83a21be-a99c-4d93-bfcb-b72121e30ce1"
      },
      "source": [
        "torch.log(softmax(x))"
      ],
      "execution_count": 20,
      "outputs": [
        {
          "output_type": "execute_result",
          "data": {
            "text/plain": [
              "tensor([[-inf, 0.]])"
            ]
          },
          "metadata": {
            "tags": []
          },
          "execution_count": 20
        }
      ]
    },
    {
      "cell_type": "code",
      "metadata": {
        "id": "xT_gJXB7-QmA",
        "colab": {
          "base_uri": "https://localhost:8080/"
        },
        "outputId": "912ec5e6-c73d-40e6-90e9-dbbb3ca77f17"
      },
      "source": [
        "log_softmax(x)"
      ],
      "execution_count": 21,
      "outputs": [
        {
          "output_type": "execute_result",
          "data": {
            "text/plain": [
              "tensor([[-110.,    0.]])"
            ]
          },
          "metadata": {
            "tags": []
          },
          "execution_count": 21
        }
      ]
    },
    {
      "cell_type": "code",
      "metadata": {
        "id": "bVbhRXzd-UdJ",
        "colab": {
          "base_uri": "https://localhost:8080/"
        },
        "outputId": "19104a4a-1878-4bb1-acd5-41b7faf5a340"
      },
      "source": [
        "torch.exp(log_softmax(x))"
      ],
      "execution_count": 22,
      "outputs": [
        {
          "output_type": "execute_result",
          "data": {
            "text/plain": [
              "tensor([[0., 1.]])"
            ]
          },
          "metadata": {
            "tags": []
          },
          "execution_count": 22
        }
      ]
    },
    {
      "cell_type": "markdown",
      "metadata": {
        "id": "oUlTk2TO7lls"
      },
      "source": [
        "# Implementando un clasificador totalmente conectado\n",
        "---\n"
      ]
    },
    {
      "cell_type": "code",
      "metadata": {
        "id": "3zj7lX9O-Utb"
      },
      "source": [
        "# Cambiamos la funcion softmax de salida a LogSoftmax \n",
        "# esto nos permitirá castigar o reentrenar para obtener el valor adecuado.\n",
        "model = nn.Sequential(\n",
        "            nn.Linear(3072, 512),\n",
        "            nn.Tanh(),\n",
        "            nn.Linear(512, 2),\n",
        "            nn.LogSoftmax(dim=1))\n",
        "# además cambiamos la función de perdida a una Logaritmica\n",
        "loss = nn.NLLLoss()"
      ],
      "execution_count": 23,
      "outputs": []
    },
    {
      "cell_type": "code",
      "metadata": {
        "id": "SSzGOg8v-cnj",
        "colab": {
          "base_uri": "https://localhost:8080/"
        },
        "outputId": "ea28b91e-fd9e-4714-9313-971ab81f19e4"
      },
      "source": [
        "img, label = data_set[20]\n",
        "\n",
        "out = model(img.view(-1).unsqueeze(0))\n",
        "\n",
        "_, index = torch.max(out, dim=1)\n",
        "\n",
        "print('->',class_names[label],' model:',class_names[index])\n",
        "\n",
        "loss(out, torch.tensor([label]))"
      ],
      "execution_count": 24,
      "outputs": [
        {
          "output_type": "stream",
          "text": [
            "-> car  model: car\n"
          ],
          "name": "stdout"
        },
        {
          "output_type": "execute_result",
          "data": {
            "text/plain": [
              "tensor(0.6900, grad_fn=<NllLossBackward>)"
            ]
          },
          "metadata": {
            "tags": []
          },
          "execution_count": 24
        }
      ]
    },
    {
      "cell_type": "code",
      "metadata": {
        "id": "gtv3hWxFAZI6"
      },
      "source": [
        "model = nn.Sequential(\n",
        "            nn.Linear(3072, 512),\n",
        "            nn.Tanh(),\n",
        "            nn.Linear(512, 2),\n",
        "            nn.LogSoftmax(dim=1))"
      ],
      "execution_count": 25,
      "outputs": []
    },
    {
      "cell_type": "code",
      "metadata": {
        "id": "S2PMb_NcAh22",
        "colab": {
          "base_uri": "https://localhost:8080/"
        },
        "outputId": "303666d5-be01-4c2c-c977-c89fe845ab7b"
      },
      "source": [
        "learning_rate = 0.01\n",
        "\n",
        "optimizer = optim.SGD(model.parameters(), lr=learning_rate)\n",
        "\n",
        "lossFunction = nn.NLLLoss()\n",
        "\n",
        "n_epochs = 5 #100 antes\n",
        "\n",
        "for epoch in range(n_epochs):\n",
        "    #traer todas las imagenes del dataset\n",
        "    for img, label in data_set:\n",
        "        # se le quita una dimension al modelo\n",
        "        out = model(img.view(-1).unsqueeze(0))\n",
        "        # se toma el label del tensor\n",
        "        loss = lossFunction(out, torch.tensor([label]))\n",
        "                \n",
        "        optimizer.zero_grad()\n",
        "        loss.backward()\n",
        "        optimizer.step()\n",
        "\n",
        "    print(\"Epoch: %d, Loss: %f\" % (epoch, float(loss)))\n",
        "# de esta manera vamos a ver que por cada iteración el modelo se entrena\n",
        "# pero debe tomar todas las imagenes en cada iteración, sin embargo hay formas de hacer este muestreo"
      ],
      "execution_count": 26,
      "outputs": [
        {
          "output_type": "stream",
          "text": [
            "Epoch: 0, Loss: 0.033291\n",
            "Epoch: 1, Loss: 0.007424\n",
            "Epoch: 2, Loss: 0.014875\n",
            "Epoch: 3, Loss: 0.723536\n",
            "Epoch: 4, Loss: 0.008534\n"
          ],
          "name": "stdout"
        }
      ]
    },
    {
      "cell_type": "code",
      "metadata": {
        "id": "y3zHnrHx-Sur",
        "colab": {
          "base_uri": "https://localhost:8080/"
        },
        "outputId": "664a97f1-3209-4f2b-cac4-3dfc994a51d5"
      },
      "source": [
        "# con el uso de train loader, podemos tomar muestras o batchs del dataset\n",
        "# para no usar todos los datos\n",
        "train_loader = torch.utils.data.DataLoader(data_set, batch_size=64, shuffle=True)\n",
        "\n",
        "# usamos el mismo modelo, optimizer, and loss function.\n",
        "model = nn.Sequential(\n",
        "            nn.Linear(3072, 512),\n",
        "            nn.Tanh(),\n",
        "            nn.Linear(512, 2),\n",
        "            nn.LogSoftmax(dim=1))\n",
        "\n",
        "\n",
        "optimizer = optim.SGD(model.parameters(), lr=0.02)\n",
        "\n",
        "loss_function = nn.NLLLoss()\n",
        "\n",
        "# sin embargo ahora hacemos más iteraciones\n",
        "# ya que hacemos muestreos del data set para entrenarlo.\n",
        "n_epochs = 100\n",
        "\n",
        "for epoch in range(n_epochs):\n",
        "    for imgs, labels in train_loader:\n",
        "        outputs = model(imgs.view(imgs.shape[0], -1))\n",
        "        loss = loss_function(outputs, labels)\n",
        "\n",
        "        optimizer.zero_grad()\n",
        "        loss.backward()\n",
        "        optimizer.step()\n",
        "\n",
        "    print(\"Epoch: %d, Loss: %f\" % (epoch, float(loss)))\n",
        "\n",
        "#en este caso hacemos más iteraciones y lográ ser más rapido porque ya no hacemos un \n",
        "# analisis total del dataset, simplemente muestreamos y por cada grupo hacemos\n",
        "# la corrección y optimizacion"
      ],
      "execution_count": 27,
      "outputs": [
        {
          "output_type": "stream",
          "text": [
            "Epoch: 0, Loss: 0.591242\n",
            "Epoch: 1, Loss: 0.259827\n",
            "Epoch: 2, Loss: 0.427720\n",
            "Epoch: 3, Loss: 0.431363\n",
            "Epoch: 4, Loss: 0.411533\n",
            "Epoch: 5, Loss: 0.300906\n",
            "Epoch: 6, Loss: 0.359686\n",
            "Epoch: 7, Loss: 0.432286\n",
            "Epoch: 8, Loss: 0.112970\n",
            "Epoch: 9, Loss: 0.119496\n",
            "Epoch: 10, Loss: 0.122462\n",
            "Epoch: 11, Loss: 0.325612\n",
            "Epoch: 12, Loss: 0.178014\n",
            "Epoch: 13, Loss: 0.280070\n",
            "Epoch: 14, Loss: 0.204738\n",
            "Epoch: 15, Loss: 0.240822\n",
            "Epoch: 16, Loss: 0.070834\n",
            "Epoch: 17, Loss: 0.081313\n",
            "Epoch: 18, Loss: 0.024697\n",
            "Epoch: 19, Loss: 0.188488\n",
            "Epoch: 20, Loss: 0.049592\n",
            "Epoch: 21, Loss: 0.175221\n",
            "Epoch: 22, Loss: 0.048902\n",
            "Epoch: 23, Loss: 0.077504\n",
            "Epoch: 24, Loss: 0.012769\n",
            "Epoch: 25, Loss: 0.048000\n",
            "Epoch: 26, Loss: 0.022308\n",
            "Epoch: 27, Loss: 0.017821\n",
            "Epoch: 28, Loss: 0.046377\n",
            "Epoch: 29, Loss: 0.014939\n",
            "Epoch: 30, Loss: 0.013914\n",
            "Epoch: 31, Loss: 0.015941\n",
            "Epoch: 32, Loss: 0.021816\n",
            "Epoch: 33, Loss: 0.048053\n",
            "Epoch: 34, Loss: 0.020877\n",
            "Epoch: 35, Loss: 0.019407\n",
            "Epoch: 36, Loss: 0.011936\n",
            "Epoch: 37, Loss: 0.008986\n",
            "Epoch: 38, Loss: 0.008036\n",
            "Epoch: 39, Loss: 0.013869\n",
            "Epoch: 40, Loss: 0.004249\n",
            "Epoch: 41, Loss: 0.017009\n",
            "Epoch: 42, Loss: 0.005083\n",
            "Epoch: 43, Loss: 0.014906\n",
            "Epoch: 44, Loss: 0.015018\n",
            "Epoch: 45, Loss: 0.003733\n",
            "Epoch: 46, Loss: 0.011135\n",
            "Epoch: 47, Loss: 0.006201\n",
            "Epoch: 48, Loss: 0.005044\n",
            "Epoch: 49, Loss: 0.006476\n",
            "Epoch: 50, Loss: 0.004870\n",
            "Epoch: 51, Loss: 0.007270\n",
            "Epoch: 52, Loss: 0.011847\n",
            "Epoch: 53, Loss: 0.010871\n",
            "Epoch: 54, Loss: 0.006932\n",
            "Epoch: 55, Loss: 0.003218\n",
            "Epoch: 56, Loss: 0.004175\n",
            "Epoch: 57, Loss: 0.003920\n",
            "Epoch: 58, Loss: 0.013006\n",
            "Epoch: 59, Loss: 0.003682\n",
            "Epoch: 60, Loss: 0.006155\n",
            "Epoch: 61, Loss: 0.001333\n",
            "Epoch: 62, Loss: 0.006166\n",
            "Epoch: 63, Loss: 0.011677\n",
            "Epoch: 64, Loss: 0.011291\n",
            "Epoch: 65, Loss: 0.005898\n",
            "Epoch: 66, Loss: 0.002049\n",
            "Epoch: 67, Loss: 0.004488\n",
            "Epoch: 68, Loss: 0.003974\n",
            "Epoch: 69, Loss: 0.004245\n",
            "Epoch: 70, Loss: 0.004127\n",
            "Epoch: 71, Loss: 0.009449\n",
            "Epoch: 72, Loss: 0.006163\n",
            "Epoch: 73, Loss: 0.003680\n",
            "Epoch: 74, Loss: 0.002938\n",
            "Epoch: 75, Loss: 0.005493\n",
            "Epoch: 76, Loss: 0.002166\n",
            "Epoch: 77, Loss: 0.000957\n",
            "Epoch: 78, Loss: 0.004616\n",
            "Epoch: 79, Loss: 0.002290\n",
            "Epoch: 80, Loss: 0.002494\n",
            "Epoch: 81, Loss: 0.001512\n",
            "Epoch: 82, Loss: 0.003179\n",
            "Epoch: 83, Loss: 0.002917\n",
            "Epoch: 84, Loss: 0.004072\n",
            "Epoch: 85, Loss: 0.003432\n",
            "Epoch: 86, Loss: 0.003456\n",
            "Epoch: 87, Loss: 0.001996\n",
            "Epoch: 88, Loss: 0.002582\n",
            "Epoch: 89, Loss: 0.001388\n",
            "Epoch: 90, Loss: 0.004093\n",
            "Epoch: 91, Loss: 0.002186\n",
            "Epoch: 92, Loss: 0.004482\n",
            "Epoch: 93, Loss: 0.003250\n",
            "Epoch: 94, Loss: 0.002731\n",
            "Epoch: 95, Loss: 0.002870\n",
            "Epoch: 96, Loss: 0.003411\n",
            "Epoch: 97, Loss: 0.004523\n",
            "Epoch: 98, Loss: 0.004479\n",
            "Epoch: 99, Loss: 0.003941\n"
          ],
          "name": "stdout"
        }
      ]
    },
    {
      "cell_type": "code",
      "metadata": {
        "id": "6qg_szFgiMfx",
        "colab": {
          "base_uri": "https://localhost:8080/"
        },
        "outputId": "3275654b-35d0-4da6-91a9-cb194d6a89b0"
      },
      "source": [
        "# ahora con las validaciones, podemos identificar la cantidad de predicciones\n",
        "val_loader = torch.utils.data.DataLoader(validation_set, batch_size=64, shuffle=False)\n",
        "\n",
        "correct = 0\n",
        "total = 0\n",
        "# desactivamos el gradiente para que no se use en el entrenamiento\n",
        "with torch.no_grad():\n",
        "  # cargamos las imagenes de muestra\n",
        "    for imgs, labels in val_loader:\n",
        "        outputs = model(imgs.view(imgs.shape[0], -1))\n",
        "        # predecimos\n",
        "        _, predicted = torch.max(outputs, dim=1)\n",
        "        total += labels.shape[0]\n",
        "        # comparamos con labels y sumamos\n",
        "        correct += int((predicted == labels).sum())\n",
        "# finalmente revisamos la efectividad \n",
        "print(\"Accuracy: %f\" % (correct / total))"
      ],
      "execution_count": 28,
      "outputs": [
        {
          "output_type": "stream",
          "text": [
            "Accuracy: 0.872000\n"
          ],
          "name": "stdout"
        }
      ]
    },
    {
      "cell_type": "code",
      "metadata": {
        "id": "4TSI72ISj150",
        "colab": {
          "base_uri": "https://localhost:8080/",
          "height": 301
        },
        "outputId": "6fabddd9-a891-4b28-9d2a-206b90138e56"
      },
      "source": [
        "# por ultimo podemos hacer un test unico, para una imagen del dataset\n",
        "img, label = validation_set[20]\n",
        "# obtenemos la prediccion\n",
        "out = model(img.view(-1).unsqueeze(0))\n",
        "# y sacamos el mazimo de probabilidad\n",
        "# para poder calcular este valor.\n",
        "_, index = torch.max(out, dim=1)\n",
        "\n",
        "# mostramos lo que se supone debe ser y lo que devolvio el modelo\n",
        "print('->: ',class_names[label],' model:',class_names[index])\n",
        "# mostramos la imagen\n",
        "plt.imshow(img.permute(1, 2, 0))\n",
        "plt.show()"
      ],
      "execution_count": 29,
      "outputs": [
        {
          "output_type": "stream",
          "text": [
            "Clipping input data to the valid range for imshow with RGB data ([0..1] for floats or [0..255] for integers).\n"
          ],
          "name": "stderr"
        },
        {
          "output_type": "stream",
          "text": [
            "->:  car  model: car\n"
          ],
          "name": "stdout"
        },
        {
          "output_type": "display_data",
          "data": {
            "image/png": "[encoded data removed]",
            "text/plain": [
              "<Figure size 432x288 with 1 Axes>"
            ]
          },
          "metadata": {
            "tags": [],
            "needs_background": "light"
          }
        }
      ]
    },
    {
      "cell_type": "markdown",
      "metadata": {
        "id": "IDiAeAm-7ohZ"
      },
      "source": [
        "# Mejoras, limitaciones y conclusiones\n",
        "---\n"
      ]
    },
    {
      "cell_type": "code",
      "metadata": {
        "id": "oAKXMbBwiMf_",
        "colab": {
          "base_uri": "https://localhost:8080/"
        },
        "outputId": "e8b9f07d-7d2f-41f8-a412-1b824d5345ca"
      },
      "source": [
        "train_loader = torch.utils.data.DataLoader(data_set, batch_size=64, shuffle=True)\n",
        "\n",
        "model = nn.Sequential(\n",
        "            nn.Linear(3072, 1024),\n",
        "            nn.Tanh(),\n",
        "            nn.Linear(1024, 512),\n",
        "            nn.Tanh(),\n",
        "            nn.Linear(512, 128),\n",
        "            nn.Tanh(),\n",
        "            nn.Linear(128, 2))\n",
        "\n",
        "learning_rate = 0.01\n",
        "\n",
        "optimizer = optim.SGD(model.parameters(), lr=learning_rate)\n",
        "\n",
        "loss_fn = nn.CrossEntropyLoss()\n",
        "\n",
        "n_epochs = 100\n",
        "\n",
        "for epoch in range(n_epochs):\n",
        "    for imgs, labels in train_loader:\n",
        "        outputs = model(imgs.view(imgs.shape[0], -1))\n",
        "        loss = loss_fn(outputs, labels)\n",
        "\n",
        "        optimizer.zero_grad()\n",
        "        loss.backward()\n",
        "        optimizer.step()\n",
        "\n",
        "    print(\"Epoch: %d, Loss: %f\" % (epoch, float(loss)))"
      ],
      "execution_count": 30,
      "outputs": [
        {
          "output_type": "stream",
          "text": [
            "Epoch: 0, Loss: 0.442056\n",
            "Epoch: 1, Loss: 0.573583\n",
            "Epoch: 2, Loss: 0.591843\n",
            "Epoch: 3, Loss: 0.542523\n",
            "Epoch: 4, Loss: 0.792305\n",
            "Epoch: 5, Loss: 0.512888\n",
            "Epoch: 6, Loss: 0.319859\n",
            "Epoch: 7, Loss: 0.266392\n",
            "Epoch: 8, Loss: 0.379794\n",
            "Epoch: 9, Loss: 0.204519\n",
            "Epoch: 10, Loss: 0.387621\n",
            "Epoch: 11, Loss: 0.385690\n",
            "Epoch: 12, Loss: 0.395168\n",
            "Epoch: 13, Loss: 0.136324\n",
            "Epoch: 14, Loss: 0.079962\n",
            "Epoch: 15, Loss: 0.102180\n",
            "Epoch: 16, Loss: 0.399909\n",
            "Epoch: 17, Loss: 0.093124\n",
            "Epoch: 18, Loss: 0.140991\n",
            "Epoch: 19, Loss: 0.382630\n",
            "Epoch: 20, Loss: 0.076995\n",
            "Epoch: 21, Loss: 0.263533\n",
            "Epoch: 22, Loss: 0.256963\n",
            "Epoch: 23, Loss: 0.099594\n",
            "Epoch: 24, Loss: 0.224731\n",
            "Epoch: 25, Loss: 0.031625\n",
            "Epoch: 26, Loss: 0.184188\n",
            "Epoch: 27, Loss: 0.083556\n",
            "Epoch: 28, Loss: 0.067148\n",
            "Epoch: 29, Loss: 0.065209\n",
            "Epoch: 30, Loss: 0.129370\n",
            "Epoch: 31, Loss: 0.117633\n",
            "Epoch: 32, Loss: 0.011387\n",
            "Epoch: 33, Loss: 0.038123\n",
            "Epoch: 34, Loss: 0.042403\n",
            "Epoch: 35, Loss: 0.006221\n",
            "Epoch: 36, Loss: 0.013009\n",
            "Epoch: 37, Loss: 0.011647\n",
            "Epoch: 38, Loss: 0.006703\n",
            "Epoch: 39, Loss: 0.012627\n",
            "Epoch: 40, Loss: 0.004040\n",
            "Epoch: 41, Loss: 0.004545\n",
            "Epoch: 42, Loss: 0.003189\n",
            "Epoch: 43, Loss: 0.003677\n",
            "Epoch: 44, Loss: 0.007486\n",
            "Epoch: 45, Loss: 0.010573\n",
            "Epoch: 46, Loss: 0.001713\n",
            "Epoch: 47, Loss: 0.002007\n",
            "Epoch: 48, Loss: 0.002875\n",
            "Epoch: 49, Loss: 0.005537\n",
            "Epoch: 50, Loss: 0.000474\n",
            "Epoch: 51, Loss: 0.001483\n",
            "Epoch: 52, Loss: 0.002534\n",
            "Epoch: 53, Loss: 0.000857\n",
            "Epoch: 54, Loss: 0.000930\n",
            "Epoch: 55, Loss: 0.003450\n",
            "Epoch: 56, Loss: 0.001762\n",
            "Epoch: 57, Loss: 0.000783\n",
            "Epoch: 58, Loss: 0.001786\n",
            "Epoch: 59, Loss: 0.001247\n",
            "Epoch: 60, Loss: 0.000280\n",
            "Epoch: 61, Loss: 0.001190\n",
            "Epoch: 62, Loss: 0.000486\n",
            "Epoch: 63, Loss: 0.001755\n",
            "Epoch: 64, Loss: 0.001061\n",
            "Epoch: 65, Loss: 0.000871\n",
            "Epoch: 66, Loss: 0.001399\n",
            "Epoch: 67, Loss: 0.001969\n",
            "Epoch: 68, Loss: 0.000815\n",
            "Epoch: 69, Loss: 0.000460\n",
            "Epoch: 70, Loss: 0.000756\n",
            "Epoch: 71, Loss: 0.000800\n",
            "Epoch: 72, Loss: 0.000758\n",
            "Epoch: 73, Loss: 0.000371\n",
            "Epoch: 74, Loss: 0.000453\n",
            "Epoch: 75, Loss: 0.001213\n",
            "Epoch: 76, Loss: 0.000547\n",
            "Epoch: 77, Loss: 0.000287\n",
            "Epoch: 78, Loss: 0.000647\n",
            "Epoch: 79, Loss: 0.001543\n",
            "Epoch: 80, Loss: 0.000581\n",
            "Epoch: 81, Loss: 0.000545\n",
            "Epoch: 82, Loss: 0.000669\n",
            "Epoch: 83, Loss: 0.000381\n",
            "Epoch: 84, Loss: 0.000938\n",
            "Epoch: 85, Loss: 0.000239\n",
            "Epoch: 86, Loss: 0.001269\n",
            "Epoch: 87, Loss: 0.000915\n",
            "Epoch: 88, Loss: 0.000818\n",
            "Epoch: 89, Loss: 0.000732\n",
            "Epoch: 90, Loss: 0.000787\n",
            "Epoch: 91, Loss: 0.000629\n",
            "Epoch: 92, Loss: 0.000273\n",
            "Epoch: 93, Loss: 0.000813\n",
            "Epoch: 94, Loss: 0.000742\n",
            "Epoch: 95, Loss: 0.000166\n",
            "Epoch: 96, Loss: 0.000102\n",
            "Epoch: 97, Loss: 0.000093\n",
            "Epoch: 98, Loss: 0.000188\n",
            "Epoch: 99, Loss: 0.000241\n"
          ],
          "name": "stdout"
        }
      ]
    },
    {
      "cell_type": "code",
      "metadata": {
        "id": "I9srYlFi1z0_",
        "colab": {
          "base_uri": "https://localhost:8080/"
        },
        "outputId": "b8622266-1625-4d93-ab83-67c99db5e14d"
      },
      "source": [
        "val_loader = torch.utils.data.DataLoader(validation_set, batch_size=64, shuffle=False)\n",
        "\n",
        "correct = 0\n",
        "total = 0\n",
        "\n",
        "with torch.no_grad():\n",
        "    for imgs, labels in val_loader:\n",
        "        outputs = model(imgs.view(imgs.shape[0], -1))\n",
        "        _, predicted = torch.max(outputs, dim=1)\n",
        "        total += labels.shape[0]\n",
        "        correct += int((predicted == labels).sum())\n",
        "        \n",
        "print(\"Accuracy: %f\" % (correct / total))"
      ],
      "execution_count": 31,
      "outputs": [
        {
          "output_type": "stream",
          "text": [
            "Accuracy: 0.866500\n"
          ],
          "name": "stdout"
        }
      ]
    },
    {
      "cell_type": "code",
      "metadata": {
        "id": "oBhA5nFT1z0z",
        "colab": {
          "base_uri": "https://localhost:8080/"
        },
        "outputId": "698be1f6-f466-4233-9d4f-9b76d501c474"
      },
      "source": [
        "train_loader = torch.utils.data.DataLoader(data_set, batch_size=64, shuffle=False)\n",
        "\n",
        "correct = 0\n",
        "total = 0\n",
        "\n",
        "with torch.no_grad():\n",
        "    for imgs, labels in train_loader:\n",
        "        outputs = model(imgs.view(imgs.shape[0], -1))\n",
        "        _, predicted = torch.max(outputs, dim=1)\n",
        "        total += labels.shape[0]\n",
        "        correct += int((predicted == labels).sum())\n",
        "        \n",
        "print(\"Accuracy: %f\" % (correct / total))"
      ],
      "execution_count": 32,
      "outputs": [
        {
          "output_type": "stream",
          "text": [
            "Accuracy: 1.000000\n"
          ],
          "name": "stdout"
        }
      ]
    },
    {
      "cell_type": "code",
      "metadata": {
        "id": "Muq7nPSTkgll",
        "colab": {
          "base_uri": "https://localhost:8080/",
          "height": 0
        },
        "outputId": "ccabfd25-b556-4ee0-eee9-7b779721af10"
      },
      "source": [
        "img, label = validation_set[1]\n",
        "out = model(img.view(-1).unsqueeze(0))\n",
        "_, index = torch.max(out, dim=1)\n",
        "\n",
        "print('correct: ',class_names[label],' model:',class_names[index])\n",
        "plt.imshow(img.permute(1, 2, 0))"
      ],
      "execution_count": 33,
      "outputs": [
        {
          "output_type": "stream",
          "text": [
            "Clipping input data to the valid range for imshow with RGB data ([0..1] for floats or [0..255] for integers).\n"
          ],
          "name": "stderr"
        },
        {
          "output_type": "stream",
          "text": [
            "correct:  car  model: cat\n"
          ],
          "name": "stdout"
        },
        {
          "output_type": "execute_result",
          "data": {
            "text/plain": [
              "<matplotlib.image.AxesImage at 0x7f2888ffb650>"
            ]
          },
          "metadata": {
            "tags": []
          },
          "execution_count": 33
        },
        {
          "output_type": "display_data",
          "data": {
            "image/png": "[encoded data removed]",
            "text/plain": [
              "<Figure size 432x288 with 1 Axes>"
            ]
          },
          "metadata": {
            "tags": [],
            "needs_background": "light"
          }
        }
      ]
    },
    {
      "cell_type": "code",
      "metadata": {
        "id": "JRAM8DUM1z1D",
        "colab": {
          "base_uri": "https://localhost:8080/"
        },
        "outputId": "2b29a345-0b16-4c5a-efbf-488f6f2ba35d"
      },
      "source": [
        "sum([p.numel() for p in model.parameters() if p.requires_grad == True])"
      ],
      "execution_count": 34,
      "outputs": [
        {
          "output_type": "execute_result",
          "data": {
            "text/plain": [
              "3737474"
            ]
          },
          "metadata": {
            "tags": []
          },
          "execution_count": 34
        }
      ]
    },
    {
      "cell_type": "code",
      "metadata": {
        "id": "ZSumBU8P1z1L",
        "colab": {
          "base_uri": "https://localhost:8080/"
        },
        "outputId": "6aba277e-ab46-4f4b-c58e-2707667cd0c7"
      },
      "source": [
        "first_model = nn.Sequential(\n",
        "                nn.Linear(3072, 512),\n",
        "                nn.Tanh(),\n",
        "                nn.Linear(512, 2),\n",
        "                nn.LogSoftmax(dim=1))\n",
        "\n",
        "sum([p.numel() for p in first_model.parameters()])"
      ],
      "execution_count": 35,
      "outputs": [
        {
          "output_type": "execute_result",
          "data": {
            "text/plain": [
              "1574402"
            ]
          },
          "metadata": {
            "tags": []
          },
          "execution_count": 35
        }
      ]
    },
    {
      "cell_type": "code",
      "metadata": {
        "id": "fh-i5zrX1z1P",
        "colab": {
          "base_uri": "https://localhost:8080/"
        },
        "outputId": "d17f2cba-dae1-47a4-da9b-be41aca45a18"
      },
      "source": [
        "sum([p.numel() for p in nn.Linear(3072, 512).parameters()])"
      ],
      "execution_count": 36,
      "outputs": [
        {
          "output_type": "execute_result",
          "data": {
            "text/plain": [
              "1573376"
            ]
          },
          "metadata": {
            "tags": []
          },
          "execution_count": 36
        }
      ]
    },
    {
      "cell_type": "code",
      "metadata": {
        "id": "-syvxiOP1z1U",
        "colab": {
          "base_uri": "https://localhost:8080/"
        },
        "outputId": "e05c3a2f-d2c2-422c-ed71-2d9b4f441786"
      },
      "source": [
        "sum([p.numel() for p in nn.Linear(3072, 1024).parameters()])"
      ],
      "execution_count": 37,
      "outputs": [
        {
          "output_type": "execute_result",
          "data": {
            "text/plain": [
              "3146752"
            ]
          },
          "metadata": {
            "tags": []
          },
          "execution_count": 37
        }
      ]
    },
    {
      "cell_type": "code",
      "metadata": {
        "id": "pHiRLOC1l7P2",
        "colab": {
          "base_uri": "https://localhost:8080/",
          "height": 0
        },
        "outputId": "61996f87-ee55-44e5-a287-9b2c9fb3b9f4"
      },
      "source": [
        "image = request.urlretrieve('https://i.pinimg.com/originals/43/bc/47/43bc47066bb8b2fa4fe7cc8e82cc3714.jpg','test,jpg')\n",
        "                            \n",
        "img = Image.open(image[0])\n",
        "\n",
        "preprocess = transforms.Compose([\n",
        "        transforms.Resize(48),\n",
        "        transforms.CenterCrop(32),\n",
        "        transforms.ToTensor(),\n",
        "        transforms.Normalize(\n",
        "            mean=[0.4915, 0.4823, 0.4468],\n",
        "            std=[0.2470, 0.2435, 0.2616]\n",
        "        )])\n",
        "\n",
        "img_t = preprocess(img)\n",
        "out = model(img_t.view(-1).unsqueeze(0))\n",
        "_, index = torch.max(out, dim=1)\n",
        "print('correct: car ',' model:',class_names[index])\n",
        "plt.imshow(img_t.permute(1, 2, 0))"
      ],
      "execution_count": 38,
      "outputs": [
        {
          "output_type": "stream",
          "text": [
            "Clipping input data to the valid range for imshow with RGB data ([0..1] for floats or [0..255] for integers).\n"
          ],
          "name": "stderr"
        },
        {
          "output_type": "stream",
          "text": [
            "correct: car   model: cat\n"
          ],
          "name": "stdout"
        },
        {
          "output_type": "execute_result",
          "data": {
            "text/plain": [
              "<matplotlib.image.AxesImage at 0x7f2888ed3f90>"
            ]
          },
          "metadata": {
            "tags": []
          },
          "execution_count": 38
        },
        {
          "output_type": "display_data",
          "data": {
            "image/png": "[encoded data removed]",
            "text/plain": [
              "<Figure size 432x288 with 1 Axes>"
            ]
          },
          "metadata": {
            "tags": [],
            "needs_background": "light"
          }
        }
      ]
    },
    {
      "cell_type": "code",
      "metadata": {
        "id": "XqFsv3cfEhEI"
      },
      "source": [
        ""
      ],
      "execution_count": 38,
      "outputs": []
    }
  ]
}