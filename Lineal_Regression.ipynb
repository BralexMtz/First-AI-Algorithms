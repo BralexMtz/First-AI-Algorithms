{
  "nbformat": 4,
  "nbformat_minor": 0,
  "metadata": {
    "colab": {
      "name": "Lineal Regression.ipynb",
      "provenance": [],
      "collapsed_sections": [],
      "authorship_tag": "ABX9TyO4YSokiIhVg4ckxct4M9Qd",
      "include_colab_link": true
    },
    "kernelspec": {
      "name": "python3",
      "display_name": "Python 3"
    }
  },
  "cells": [
    {
      "cell_type": "markdown",
      "metadata": {
        "id": "view-in-github",
        "colab_type": "text"
      },
      "source": [
        "<a href=\"https://colab.research.google.com/github/BralexMtz/First-AI-Algorithms/blob/main/Lineal_Regression.ipynb\" target=\"_parent\"><img src=\"https://colab.research.google.com/assets/colab-badge.svg\" alt=\"Open In Colab\"/></a>"
      ]
    },
    {
      "cell_type": "code",
      "metadata": {
        "id": "IrGdBe9AhGs4"
      },
      "source": [
        "import torch\n",
        "import numpy as np\n",
        "import torch.nn as nn # de redes neuronales para regresion lineal\n",
        "import torch.optim as optim # para optimizar los gradientes y hacer un backpropagation\n",
        "#Para graficar\n",
        "import matplotlib.pyplot as plt"
      ],
      "execution_count": 1,
      "outputs": []
    },
    {
      "cell_type": "markdown",
      "metadata": {
        "id": "X6cxdAbthqCd"
      },
      "source": [
        "# Regresion Lineal\n",
        "---"
      ]
    },
    {
      "cell_type": "code",
      "metadata": {
        "colab": {
          "base_uri": "https://localhost:8080/",
          "height": 282
        },
        "id": "KkRicuo3ho4P",
        "outputId": "ac42b7a3-3e4b-4380-881d-2e6038ee82ef"
      },
      "source": [
        "car_prices = [5,6,7,8,9,10]\n",
        "units_sold = [8.5,8,7.5,7.0,6.5,6.0]\n",
        "plt.scatter(car_prices, units_sold)"
      ],
      "execution_count": 2,
      "outputs": [
        {
          "output_type": "execute_result",
          "data": {
            "text/plain": [
              "<matplotlib.collections.PathCollection at 0x7f3990891bd0>"
            ]
          },
          "metadata": {
            "tags": []
          },
          "execution_count": 2
        },
        {
          "output_type": "display_data",
          "data": {
            "image/png": "[encoded data removed]",
            "text/plain": [
              "<Figure size 432x288 with 1 Axes>"
            ]
          },
          "metadata": {
            "tags": [],
            "needs_background": "light"
          }
        }
      ]
    },
    {
      "cell_type": "code",
      "metadata": {
        "colab": {
          "base_uri": "https://localhost:8080/"
        },
        "id": "6C0yFSXIh-hO",
        "outputId": "ccb7b905-6352-4b6c-8529-c95f279c84d1"
      },
      "source": [
        "# de python a numpy\n",
        "prices_array=np.array(car_prices).reshape(-1,1)\n",
        "units_array=np.array(units_sold).reshape(-1,1)\n",
        "\n",
        "prices_array"
      ],
      "execution_count": 4,
      "outputs": [
        {
          "output_type": "execute_result",
          "data": {
            "text/plain": [
              "array([[ 5],\n",
              "       [ 6],\n",
              "       [ 7],\n",
              "       [ 8],\n",
              "       [ 9],\n",
              "       [10]])"
            ]
          },
          "metadata": {
            "tags": []
          },
          "execution_count": 4
        }
      ]
    },
    {
      "cell_type": "code",
      "metadata": {
        "colab": {
          "base_uri": "https://localhost:8080/"
        },
        "id": "RCPJpT0KiX71",
        "outputId": "9ab02011-b9e8-47d5-aa7f-4a71c4bfd177"
      },
      "source": [
        "# de numpy a torch\n",
        "# activamos el tensor con gradientes activados \n",
        "# para poder hacer el backpropagation en la construccion del modelo\n",
        "prices = torch.from_numpy(prices_array).float().requires_grad_(True)\n",
        "# Aqui no activamos gradientes porque\n",
        "# es nuestro target, lo que tratamos de explicar.\n",
        "units = torch.from_numpy(units_array).float()\n",
        "\n",
        "prices, prices.shape"
      ],
      "execution_count": 5,
      "outputs": [
        {
          "output_type": "execute_result",
          "data": {
            "text/plain": [
              "(tensor([[ 5.],\n",
              "         [ 6.],\n",
              "         [ 7.],\n",
              "         [ 8.],\n",
              "         [ 9.],\n",
              "         [10.]], requires_grad=True), torch.Size([6, 1]))"
            ]
          },
          "metadata": {
            "tags": []
          },
          "execution_count": 5
        }
      ]
    },
    {
      "cell_type": "code",
      "metadata": {
        "colab": {
          "base_uri": "https://localhost:8080/",
          "height": 300
        },
        "id": "CmIHpkfBjCNL",
        "outputId": "e420a3a4-5d10-44d0-96df-ea396b5f6dd7"
      },
      "source": [
        "# Creamos un modelo lineal\n",
        "model = nn.Linear(1,1)\n",
        "\n",
        "# media del cuadrado de los valores\n",
        "loss_function = nn.MSELoss()\n",
        "\n",
        "# Stocastic Gradient Decent\n",
        "optimizer = optim.SGD(model.parameters(), lr=0.01)\n",
        "#                     ^                      ^\n",
        "# los pesos dados a partir del modelo        LearningRate es el grado de cambio en cada iteración\n",
        "\n",
        "# Ahora podemos hacer el entrenamiento y graficaremos las iteraciones\n",
        "losses=[]\n",
        "iterations = 2000\n",
        "for i in range(iterations):\n",
        "  #predecimos, ejecutar el forward pass con el modelo \n",
        "  pred = model(prices)\n",
        "  # la perdida o diferencia a partir de la prediccion y el target\n",
        "  loss = loss_function(pred, units)\n",
        "  # agregar la perdida al arreglo para graficar\n",
        "  losses.append(loss.data)\n",
        "\n",
        "  # reiniciamos los gradientes para que no se acumulen en cada iteracion\n",
        "  optimizer.zero_grad()\n",
        "  # Para entrenar con backward, corregir\n",
        "  loss.backward()\n",
        "  # nos movemos un poco en dirección del meaning\n",
        "  optimizer.step()\n",
        "\n",
        "\n",
        "print(float(loss))\n",
        "# graficamos las iteraciones con los losses\n",
        "plt.plot(range(iterations),losses)\n"
      ],
      "execution_count": 12,
      "outputs": [
        {
          "output_type": "stream",
          "text": [
            "0.13928104937076569\n"
          ],
          "name": "stdout"
        },
        {
          "output_type": "execute_result",
          "data": {
            "text/plain": [
              "[<matplotlib.lines.Line2D at 0x7f398f2b0650>]"
            ]
          },
          "metadata": {
            "tags": []
          },
          "execution_count": 12
        },
        {
          "output_type": "display_data",
          "data": {
            "image/png": "[encoded data removed]",
            "text/plain": [
              "<Figure size 432x288 with 1 Axes>"
            ]
          },
          "metadata": {
            "tags": [],
            "needs_background": "light"
          }
        }
      ]
    },
    {
      "cell_type": "markdown",
      "metadata": {
        "id": "piLdtaMxljuB"
      },
      "source": [
        "Aqui podemos ver que la perdida va disminuyendo en cada iteración de tal forma que cada vez nos acercamos más y más a los valores reales.\n",
        "\n",
        "\n",
        "**En este punto el modelo ya se ha entrenado.**\n",
        "\n",
        "Así que ya podemos predecir."
      ]
    },
    {
      "cell_type": "code",
      "metadata": {
        "colab": {
          "base_uri": "https://localhost:8080/"
        },
        "id": "REshZvbDj3kv",
        "outputId": "445f66cb-d27b-4242-8e8d-a46729a782ea"
      },
      "source": [
        "x = torch.Tensor([[4.0]])\n",
        "p = model(x)\n",
        "p"
      ],
      "execution_count": 13,
      "outputs": [
        {
          "output_type": "execute_result",
          "data": {
            "text/plain": [
              "tensor([[8.1729]], grad_fn=<AddmmBackward>)"
            ]
          },
          "metadata": {
            "tags": []
          },
          "execution_count": 13
        }
      ]
    }
  ]
}