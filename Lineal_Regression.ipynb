{
  "nbformat": 4,
  "nbformat_minor": 0,
  "metadata": {
    "colab": {
      "name": "Lineal Regression.ipynb",
      "provenance": [],
      "collapsed_sections": [],
      "authorship_tag": "ABX9TyMnqakoaUXnwmjZPYIf4Sk9",
      "include_colab_link": true
    },
    "kernelspec": {
      "name": "python3",
      "display_name": "Python 3"
    }
  },
  "cells": [
    {
      "cell_type": "markdown",
      "metadata": {
        "id": "view-in-github",
        "colab_type": "text"
      },
      "source": [
        "<a href=\"https://colab.research.google.com/github/BralexMtz/First-AI-Algorithms/blob/main/Lineal_Regression.ipynb\" target=\"_parent\"><img src=\"https://colab.research.google.com/assets/colab-badge.svg\" alt=\"Open In Colab\"/></a>"
      ]
    },
    {
      "cell_type": "code",
      "metadata": {
        "id": "IrGdBe9AhGs4"
      },
      "source": [
        "import torch\n",
        "import numpy as np\n",
        "import torch.nn as nn # de redes neuronales para regresion lineal\n",
        "import torch.optim as optim # para optimizar los gradientes y hacer un backpropagation\n",
        "#Para graficar\n",
        "import matplotlib.pyplot as plt"
      ],
      "execution_count": 1,
      "outputs": []
    },
    {
      "cell_type": "markdown",
      "metadata": {
        "id": "X6cxdAbthqCd"
      },
      "source": [
        "# Regresion Lineal\n",
        "---"
      ]
    },
    {
      "cell_type": "code",
      "metadata": {
        "colab": {
          "base_uri": "https://localhost:8080/",
          "height": 282
        },
        "id": "KkRicuo3ho4P",
        "outputId": "aa56f758-e9c1-4ba0-bbc7-97131b7d7b35"
      },
      "source": [
        "car_prices = [5,6,7,8,9,10]\n",
        "units_sold = [8.5,8,7.5,7.0,6.5,6.0]\n",
        "plt.scatter(car_prices, units_sold)"
      ],
      "execution_count": 2,
      "outputs": [
        {
          "output_type": "execute_result",
          "data": {
            "text/plain": [
              "<matplotlib.collections.PathCollection at 0x7ff469e36190>"
            ]
          },
          "metadata": {
            "tags": []
          },
          "execution_count": 2
        },
        {
          "output_type": "display_data",
          "data": {
            "image/png": "[encoded data removed]",
            "text/plain": [
              "<Figure size 432x288 with 1 Axes>"
            ]
          },
          "metadata": {
            "tags": [],
            "needs_background": "light"
          }
        }
      ]
    },
    {
      "cell_type": "code",
      "metadata": {
        "colab": {
          "base_uri": "https://localhost:8080/"
        },
        "id": "6C0yFSXIh-hO",
        "outputId": "736fd417-7d53-4529-9b42-414cca3e2e4b"
      },
      "source": [
        "# de python a numpy\n",
        "prices_array=np.array(car_prices).reshape(-1,1)\n",
        "units_array=np.array(units_sold).reshape(-1,1)\n",
        "\n",
        "prices_array"
      ],
      "execution_count": 3,
      "outputs": [
        {
          "output_type": "execute_result",
          "data": {
            "text/plain": [
              "array([[ 5],\n",
              "       [ 6],\n",
              "       [ 7],\n",
              "       [ 8],\n",
              "       [ 9],\n",
              "       [10]])"
            ]
          },
          "metadata": {
            "tags": []
          },
          "execution_count": 3
        }
      ]
    },
    {
      "cell_type": "code",
      "metadata": {
        "colab": {
          "base_uri": "https://localhost:8080/"
        },
        "id": "RCPJpT0KiX71",
        "outputId": "c3843337-f985-4439-fdb0-32fd0371ccee"
      },
      "source": [
        "# de numpy a torch\n",
        "# activamos el tensor con gradientes activados \n",
        "# para poder hacer el backpropagation en la construccion del modelo\n",
        "prices = torch.from_numpy(prices_array).float().requires_grad_(True)\n",
        "# Aqui no activamos gradientes porque\n",
        "# es nuestro target, lo que tratamos de explicar.\n",
        "units = torch.from_numpy(units_array).float()\n",
        "\n",
        "prices, prices.shape"
      ],
      "execution_count": 4,
      "outputs": [
        {
          "output_type": "execute_result",
          "data": {
            "text/plain": [
              "(tensor([[ 5.],\n",
              "         [ 6.],\n",
              "         [ 7.],\n",
              "         [ 8.],\n",
              "         [ 9.],\n",
              "         [10.]], requires_grad=True), torch.Size([6, 1]))"
            ]
          },
          "metadata": {
            "tags": []
          },
          "execution_count": 4
        }
      ]
    },
    {
      "cell_type": "code",
      "metadata": {
        "colab": {
          "base_uri": "https://localhost:8080/",
          "height": 303
        },
        "id": "CmIHpkfBjCNL",
        "outputId": "e524df68-f350-4d4f-a661-506406a835dd"
      },
      "source": [
        "# Creamos un modelo lineal\n",
        "model = nn.Linear(1,1)\n",
        "\n",
        "# media del cuadrado de los valores\n",
        "loss_function = nn.MSELoss()\n",
        "\n",
        "# Stocastic Gradient Decent\n",
        "optimizer = optim.SGD(model.parameters(), lr=0.01)\n",
        "#                     ^                      ^\n",
        "# los pesos dados a partir del modelo        LearningRate es el grado de cambio en cada iteración\n",
        "\n",
        "# Ahora podemos hacer el entrenamiento y graficaremos las iteraciones\n",
        "losses=[]\n",
        "iterations = 2000\n",
        "for i in range(iterations):\n",
        "  #predecimos, ejecutar el forward pass con el modelo \n",
        "  pred = model(prices)\n",
        "  # la perdida o diferencia a partir de la prediccion y el target\n",
        "  loss = loss_function(pred, units)\n",
        "  # agregar la perdida al arreglo para graficar\n",
        "  losses.append(loss.data)\n",
        "\n",
        "  # reiniciamos los gradientes para que no se acumulen en cada iteracion\n",
        "  optimizer.zero_grad()\n",
        "  # Para entrenar con backward, corregir\n",
        "  loss.backward()\n",
        "  # nos movemos un poco en dirección del meaning\n",
        "  optimizer.step()\n",
        "\n",
        "\n",
        "print(float(loss))\n",
        "# graficamos las iteraciones con los losses\n",
        "plt.plot(range(iterations),losses)\n"
      ],
      "execution_count": 5,
      "outputs": [
        {
          "output_type": "stream",
          "text": [
            "0.11377105116844177\n"
          ],
          "name": "stdout"
        },
        {
          "output_type": "execute_result",
          "data": {
            "text/plain": [
              "[<matplotlib.lines.Line2D at 0x7ff4690ce710>]"
            ]
          },
          "metadata": {
            "tags": []
          },
          "execution_count": 5
        },
        {
          "output_type": "display_data",
          "data": {
            "image/png": "[encoded data removed]",
            "text/plain": [
              "<Figure size 432x288 with 1 Axes>"
            ]
          },
          "metadata": {
            "tags": [],
            "needs_background": "light"
          }
        }
      ]
    },
    {
      "cell_type": "markdown",
      "metadata": {
        "id": "piLdtaMxljuB"
      },
      "source": [
        "Aqui podemos ver que la perdida va disminuyendo en cada iteración de tal forma que cada vez nos acercamos más y más a los valores reales.\n",
        "\n",
        "\n",
        "**En este punto el modelo ya se ha entrenado.**\n",
        "\n",
        "Así que ya podemos predecir."
      ]
    },
    {
      "cell_type": "code",
      "metadata": {
        "colab": {
          "base_uri": "https://localhost:8080/"
        },
        "id": "REshZvbDj3kv",
        "outputId": "2f4c108c-efcc-40fa-e569-8a84319c7146"
      },
      "source": [
        "x = torch.Tensor([[4.0]])\n",
        "p = model(x)\n",
        "p"
      ],
      "execution_count": 6,
      "outputs": [
        {
          "output_type": "execute_result",
          "data": {
            "text/plain": [
              "tensor([[8.2525]], grad_fn=<AddmmBackward>)"
            ]
          },
          "metadata": {
            "tags": []
          },
          "execution_count": 6
        }
      ]
    },
    {
      "cell_type": "markdown",
      "metadata": {
        "id": "GgruQHwwik3c"
      },
      "source": [
        "# Regresión Logística\n",
        "\n",
        "---\n"
      ]
    },
    {
      "cell_type": "code",
      "metadata": {
        "colab": {
          "base_uri": "https://localhost:8080/"
        },
        "id": "AuVLDAytir-D",
        "outputId": "84fff2c8-31f0-4253-98ca-1c24ca0167a3"
      },
      "source": [
        "#clasificacion binaria\n",
        "n=100 \n",
        "# 50 en la parte alta y 50 en la alta\n",
        "h=n//2\n",
        "dimen=2\n",
        "\n",
        "data=np.random.randn(n,dimen)*3\n",
        "data"
      ],
      "execution_count": 7,
      "outputs": [
        {
          "output_type": "execute_result",
          "data": {
            "text/plain": [
              "array([[-2.36236176, -2.15776059],\n",
              "       [ 1.08020284,  0.98351212],\n",
              "       [-2.53857473,  3.96003529],\n",
              "       [ 1.96257917,  1.58172444],\n",
              "       [-0.62488436, -1.9122707 ],\n",
              "       [-0.85275833, -1.79871897],\n",
              "       [-4.41226993, -1.65496804],\n",
              "       [-2.93401153, -1.58636323],\n",
              "       [-2.03745959, -1.94287053],\n",
              "       [ 1.99822955, -0.96402081],\n",
              "       [ 1.5863626 , -2.2222932 ],\n",
              "       [-4.05949188, -2.19737851],\n",
              "       [-4.63034916,  0.24591667],\n",
              "       [-1.52634151,  0.22344865],\n",
              "       [ 4.19722372, -2.85966108],\n",
              "       [-2.73306427, -1.69487969],\n",
              "       [-1.25850891,  0.35312304],\n",
              "       [-2.98426045, -1.01026135],\n",
              "       [ 0.14095667, -1.77415339],\n",
              "       [ 1.99648097,  4.30747157],\n",
              "       [ 1.11261524,  2.73016684],\n",
              "       [-0.59929695,  1.80391503],\n",
              "       [-4.3101903 ,  4.881349  ],\n",
              "       [ 3.18368887, -1.95970236],\n",
              "       [-4.78237682, -0.45920389],\n",
              "       [-5.64847742, -4.66573736],\n",
              "       [ 1.49093277,  0.87373846],\n",
              "       [ 0.89675928,  0.77839784],\n",
              "       [ 0.84165322, -1.60979779],\n",
              "       [-1.69336888, -0.26949747],\n",
              "       [-2.4411033 , -5.09940314],\n",
              "       [ 1.36824595, -4.55298958],\n",
              "       [-0.96012901, -0.32437886],\n",
              "       [-1.08894029, -7.92360381],\n",
              "       [-1.64011868,  2.10744037],\n",
              "       [ 1.54619641, -1.78624253],\n",
              "       [-0.90308368,  0.53125465],\n",
              "       [-1.41798791,  0.04142516],\n",
              "       [-2.57435582, -3.52030612],\n",
              "       [ 1.62232346, -2.73282115],\n",
              "       [ 1.13716147, -4.86752113],\n",
              "       [-2.08646647,  0.41541457],\n",
              "       [-2.80201511, -1.64301375],\n",
              "       [ 2.73495024,  0.20200256],\n",
              "       [ 2.58322586,  3.14805661],\n",
              "       [ 3.20249998, -1.31988694],\n",
              "       [ 5.39388006, -3.30264316],\n",
              "       [ 1.95196359, -0.75652773],\n",
              "       [ 0.84978053,  2.87716258],\n",
              "       [ 2.88870558,  1.50073605],\n",
              "       [-2.39822326, -1.02828025],\n",
              "       [ 3.0117246 ,  1.3761548 ],\n",
              "       [ 1.05615845,  1.72057751],\n",
              "       [-4.45498718, -2.9373299 ],\n",
              "       [ 2.221269  , -5.04083748],\n",
              "       [ 0.71202755,  1.70229494],\n",
              "       [-0.63150907,  4.52108215],\n",
              "       [-4.05668687,  3.32641025],\n",
              "       [ 0.85735419, -1.00049337],\n",
              "       [-0.67495294,  3.02567685],\n",
              "       [-2.94631555, -1.87198244],\n",
              "       [ 3.89667242,  2.45076565],\n",
              "       [ 1.44557388,  1.77482663],\n",
              "       [ 1.15354318, -3.03581742],\n",
              "       [ 1.62846551,  4.83295857],\n",
              "       [ 1.02903827,  1.53790808],\n",
              "       [-4.8644962 , -5.51521398],\n",
              "       [-5.57809709,  0.34760646],\n",
              "       [-3.34398616,  4.32542644],\n",
              "       [ 2.70660101, -1.17357537],\n",
              "       [-5.46410667, -1.16511426],\n",
              "       [-1.63411375, -3.1426492 ],\n",
              "       [ 1.61231087,  0.28804304],\n",
              "       [-5.50205862,  1.95416574],\n",
              "       [ 3.83501282, -0.20845494],\n",
              "       [-1.90913792,  2.71804867],\n",
              "       [ 0.30789674,  0.14054304],\n",
              "       [-0.66126803, -6.17333171],\n",
              "       [-4.87284024,  8.46799395],\n",
              "       [ 5.51920714, -0.47178957],\n",
              "       [-2.0719572 ,  2.84069236],\n",
              "       [ 2.48148543, -1.58080573],\n",
              "       [ 2.48459404, -0.25111381],\n",
              "       [ 1.80179329, -0.83348414],\n",
              "       [-4.26501627,  2.12772175],\n",
              "       [ 0.08728947, -4.94945513],\n",
              "       [ 2.95990344, -4.65153741],\n",
              "       [ 0.23534286, -2.5756433 ],\n",
              "       [-2.91554644, -0.11011184],\n",
              "       [ 0.52502751, -0.30147065],\n",
              "       [ 0.50087555,  5.11738309],\n",
              "       [-1.32836673, -3.31043131],\n",
              "       [-5.35694459,  3.91254618],\n",
              "       [-0.39269835,  1.3736178 ],\n",
              "       [-0.99902714,  3.24614209],\n",
              "       [ 3.61073801,  1.11892625],\n",
              "       [-1.43199864,  3.02897972],\n",
              "       [-2.78090075,  3.40292083],\n",
              "       [ 6.44885794, -6.60117959],\n",
              "       [ 1.40214215,  1.40797528]])"
            ]
          },
          "metadata": {
            "tags": []
          },
          "execution_count": 7
        }
      ]
    },
    {
      "cell_type": "code",
      "metadata": {
        "colab": {
          "base_uri": "https://localhost:8080/",
          "height": 282
        },
        "id": "mteRu8NzjCTI",
        "outputId": "fb2bedcf-96ba-41fe-ec84-e1cc1d232a93"
      },
      "source": [
        "plt.scatter(data[:,0], data[:,1])"
      ],
      "execution_count": 8,
      "outputs": [
        {
          "output_type": "execute_result",
          "data": {
            "text/plain": [
              "<matplotlib.collections.PathCollection at 0x7ff469e23f50>"
            ]
          },
          "metadata": {
            "tags": []
          },
          "execution_count": 8
        },
        {
          "output_type": "display_data",
          "data": {
            "image/png": "[encoded data removed]",
            "text/plain": [
              "<Figure size 432x288 with 1 Axes>"
            ]
          },
          "metadata": {
            "tags": [],
            "needs_background": "light"
          }
        }
      ]
    },
    {
      "cell_type": "code",
      "metadata": {
        "id": "nQajqvzyjeEG"
      },
      "source": [
        "#enfocar cada grupo alrededor de su punto respectivo (-3,-3) \n",
        "data[:h,:]=data[:h,:]-3*np.ones((h,dimen))"
      ],
      "execution_count": 9,
      "outputs": []
    },
    {
      "cell_type": "code",
      "metadata": {
        "id": "HUCjLBEOjuu3"
      },
      "source": [
        "# enfocar cada grupo alrededor de su punto respectivo (3,-3)\n",
        "data[h:,:]=data[h:,:]+3*np.ones((h,dimen))"
      ],
      "execution_count": 10,
      "outputs": []
    },
    {
      "cell_type": "code",
      "metadata": {
        "colab": {
          "base_uri": "https://localhost:8080/",
          "height": 282
        },
        "id": "D2v9hIupkR7F",
        "outputId": "c63eefee-ed17-4c91-dd07-67c186fd9b72"
      },
      "source": [
        "colors=['blue','red']\n",
        "# arreglo de los colores.\n",
        "color = np.array([colors[0]]*h + [colors[1]]*h).reshape(n)\n",
        "plt.scatter(data[:,0], data[:,1], c=color)"
      ],
      "execution_count": 11,
      "outputs": [
        {
          "output_type": "execute_result",
          "data": {
            "text/plain": [
              "<matplotlib.collections.PathCollection at 0x7ff46905b590>"
            ]
          },
          "metadata": {
            "tags": []
          },
          "execution_count": 11
        },
        {
          "output_type": "display_data",
          "data": {
            "image/png": "[encoded data removed]",
            "text/plain": [
              "<Figure size 432x288 with 1 Axes>"
            ]
          },
          "metadata": {
            "tags": [],
            "needs_background": "light"
          }
        }
      ]
    },
    {
      "cell_type": "code",
      "metadata": {
        "colab": {
          "base_uri": "https://localhost:8080/"
        },
        "id": "rKNqlGGdkSZ7",
        "outputId": "b2740af8-da67-4e68-82dc-383460025a0e"
      },
      "source": [
        "target = np.array([0]*h + [1]*h).reshape(n,1)\n",
        "x = torch.from_numpy(data).float().requires_grad_(True)\n",
        "\n",
        "y = torch.from_numpy(target).float()\n",
        "\n",
        "x.shape , y.shape"
      ],
      "execution_count": 12,
      "outputs": [
        {
          "output_type": "execute_result",
          "data": {
            "text/plain": [
              "(torch.Size([100, 2]), torch.Size([100, 1]))"
            ]
          },
          "metadata": {
            "tags": []
          },
          "execution_count": 12
        }
      ]
    },
    {
      "cell_type": "code",
      "metadata": {
        "colab": {
          "base_uri": "https://localhost:8080/",
          "height": 282
        },
        "id": "LHvRutY1l-9d",
        "outputId": "3696e4fb-7229-4c05-be1a-8926de968f91"
      },
      "source": [
        "# son puntos por eso son 2 de entrada\n",
        "model = nn.Sequential(\n",
        "        nn.Linear(2,1),\n",
        "        nn.Sigmoid()\n",
        "      )\n",
        "loss_function = nn.BCELoss()\n",
        "optimizer= optim.SGD(model.parameters(), lr=0.015)\n",
        "\n",
        "losses=[]\n",
        "iterations=1000\n",
        "for i in range(iterations):\n",
        "  result=model(x)\n",
        "  loss = loss_function(result,y)\n",
        "  losses.append(loss.data)\n",
        "  optimizer.zero_grad()\n",
        "  loss.backward()\n",
        "  optimizer.step()\n",
        "\n",
        "plt.plot(range(iterations),losses)\n",
        "loss"
      ],
      "execution_count": 13,
      "outputs": [
        {
          "output_type": "execute_result",
          "data": {
            "text/plain": [
              "tensor(0.1175, grad_fn=<BinaryCrossEntropyBackward>)"
            ]
          },
          "metadata": {
            "tags": []
          },
          "execution_count": 13
        },
        {
          "output_type": "display_data",
          "data": {
            "image/png": "[encoded data removed]",
            "text/plain": [
              "<Figure size 432x288 with 1 Axes>"
            ]
          },
          "metadata": {
            "tags": [],
            "needs_background": "light"
          }
        }
      ]
    },
    {
      "cell_type": "code",
      "metadata": {
        "colab": {
          "base_uri": "https://localhost:8080/"
        },
        "id": "NbOwMRvwmIox",
        "outputId": "0c170237-7879-4a46-99b5-7e60c1eb076c"
      },
      "source": [
        "blue= torch.Tensor([[-5,-6]])\n",
        "# si el valor de la probabilidad es menor a 0.5 entonces es azul\n",
        "prediction = model(blue).data[0][0] > 0.5\n",
        "print(colors[prediction])\n",
        "\n",
        "\n",
        "red= torch.Tensor([[7.5,8]])\n",
        "# si el valor de la probabilidad es mayor a 0.5 entonces es rojo\n",
        "prediction = model(red).data[0][0] > 0.5\n",
        "print(colors[prediction])\n"
      ],
      "execution_count": 14,
      "outputs": [
        {
          "output_type": "stream",
          "text": [
            "blue\n",
            "red\n"
          ],
          "name": "stdout"
        }
      ]
    },
    {
      "cell_type": "code",
      "metadata": {
        "colab": {
          "base_uri": "https://localhost:8080/",
          "height": 282
        },
        "id": "ZBPYa5-mnu42",
        "outputId": "a25eb836-8c66-4920-9110-d7abcc75faf0"
      },
      "source": [
        "w = list(model.parameters())\n",
        "w0=w[0].data.numpy()\n",
        "w1=w[1].data.numpy()\n",
        "\n",
        "plt.scatter(data[:,0], data[:,1], c=color, s=75, alpha=0.6)\n",
        "\n",
        "x_axis = np.linspace(-10,10,n)\n",
        "y_axis = -(w1[0]+ x_axis*w0[0][0]) / w0[0][1]\n",
        "\n",
        "plt.plot(x_axis, y_axis, 'g--')\n"
      ],
      "execution_count": 15,
      "outputs": [
        {
          "output_type": "execute_result",
          "data": {
            "text/plain": [
              "[<matplotlib.lines.Line2D at 0x7ff468f22750>]"
            ]
          },
          "metadata": {
            "tags": []
          },
          "execution_count": 15
        },
        {
          "output_type": "display_data",
          "data": {
            "image/png": "[encoded data removed]",
            "text/plain": [
              "<Figure size 432x288 with 1 Axes>"
            ]
          },
          "metadata": {
            "tags": [],
            "needs_background": "light"
          }
        }
      ]
    },
    {
      "cell_type": "markdown",
      "metadata": {
        "id": "bHJDMxtJrow7"
      },
      "source": [
        "Aquí podemos ver la manera en la que el modelo separa los datos de acuerdo al entrenamiento previo. \n",
        "Por lo que para las nuevas predicciones los puntos que se ubiquen sobre la linea serán rojos y los que estén bajo la linea serán azules."
      ]
    }
  ]
}