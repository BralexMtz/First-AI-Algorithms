{
  "nbformat": 4,
  "nbformat_minor": 0,
  "metadata": {
    "colab": {
      "name": "Tensores.ipynb",
      "provenance": [],
      "authorship_tag": "ABX9TyMHgx01spbyaClqQVAP75b0",
      "include_colab_link": true
    },
    "kernelspec": {
      "name": "python3",
      "display_name": "Python 3"
    }
  },
  "cells": [
    {
      "cell_type": "markdown",
      "metadata": {
        "id": "view-in-github",
        "colab_type": "text"
      },
      "source": [
        "<a href=\"https://colab.research.google.com/github/BralexMtz/First-AI-Algorithms/blob/main/Tensores.ipynb\" target=\"_parent\"><img src=\"https://colab.research.google.com/assets/colab-badge.svg\" alt=\"Open In Colab\"/></a>"
      ]
    },
    {
      "cell_type": "code",
      "metadata": {
        "id": "iu--3P5tt-DQ"
      },
      "source": [
        "import torch\n",
        "import numpy as np"
      ],
      "execution_count": 32,
      "outputs": []
    },
    {
      "cell_type": "markdown",
      "metadata": {
        "id": "ylFfVxJ1upBy"
      },
      "source": [
        "# Trabajando con tensores."
      ]
    },
    {
      "cell_type": "code",
      "metadata": {
        "colab": {
          "base_uri": "https://localhost:8080/",
          "height": 36
        },
        "id": "F_pt3msPuwXb",
        "outputId": "a07621f5-5471-461e-ca2c-645c09455c0e"
      },
      "source": [
        "torch.__version__"
      ],
      "execution_count": 2,
      "outputs": [
        {
          "output_type": "execute_result",
          "data": {
            "application/vnd.google.colaboratory.intrinsic+json": {
              "type": "string"
            },
            "text/plain": [
              "'1.7.1+cu101'"
            ]
          },
          "metadata": {
            "tags": []
          },
          "execution_count": 2
        }
      ]
    },
    {
      "cell_type": "code",
      "metadata": {
        "colab": {
          "base_uri": "https://localhost:8080/"
        },
        "id": "Z1sth1Oju8I6",
        "outputId": "1711485b-de99-428b-f26a-06343f0245e8"
      },
      "source": [
        "#tensor con solo unos\n",
        "tensor_a=torch.ones(2,2)\n",
        "\n",
        "tensor_a"
      ],
      "execution_count": 4,
      "outputs": [
        {
          "output_type": "execute_result",
          "data": {
            "text/plain": [
              "tensor([[1., 1.],\n",
              "        [1., 1.]])"
            ]
          },
          "metadata": {
            "tags": []
          },
          "execution_count": 4
        }
      ]
    },
    {
      "cell_type": "code",
      "metadata": {
        "colab": {
          "base_uri": "https://localhost:8080/"
        },
        "id": "B4JsV0LjvJsk",
        "outputId": "391f21be-a411-47d3-e142-bd5f61b3303e"
      },
      "source": [
        "#tensor con variales aleatorios\n",
        "tensor_b = torch.Tensor(2,2)\n",
        "print(tensor_b)\n",
        "# si modifica, ponemos un '_' al final\n",
        "# esto modificará al tensor con valores entre 0 y 1\n",
        "tensor_b.uniform_(0,1)"
      ],
      "execution_count": 6,
      "outputs": [
        {
          "output_type": "stream",
          "text": [
            "tensor([[-2.3436e+00,  3.0899e-41],\n",
            "        [ 3.3631e-44,  0.0000e+00]])\n"
          ],
          "name": "stdout"
        },
        {
          "output_type": "execute_result",
          "data": {
            "text/plain": [
              "tensor([[0.2650, 0.1576],\n",
              "        [0.9894, 0.0875]])"
            ]
          },
          "metadata": {
            "tags": []
          },
          "execution_count": 6
        }
      ]
    },
    {
      "cell_type": "code",
      "metadata": {
        "colab": {
          "base_uri": "https://localhost:8080/"
        },
        "id": "eILjXMjovvHs",
        "outputId": "865f0eb2-1ab6-46cd-802b-8bf01799d207"
      },
      "source": [
        "# sis lo genera entre cero y uno por default\n",
        "tensor_c =  torch.rand(2,2)\n",
        "tensor_c"
      ],
      "execution_count": 8,
      "outputs": [
        {
          "output_type": "execute_result",
          "data": {
            "text/plain": [
              "tensor([[0.3141, 0.5402],\n",
              "        [0.3732, 0.6676]])"
            ]
          },
          "metadata": {
            "tags": []
          },
          "execution_count": 8
        }
      ]
    },
    {
      "cell_type": "code",
      "metadata": {
        "colab": {
          "base_uri": "https://localhost:8080/"
        },
        "id": "Z61D8Lxtv9TW",
        "outputId": "356174d7-39ec-4076-8a8b-625a5282c6b9"
      },
      "source": [
        "result= tensor_b+tensor_c\n",
        "result"
      ],
      "execution_count": 11,
      "outputs": [
        {
          "output_type": "execute_result",
          "data": {
            "text/plain": [
              "tensor([[0.5791, 0.6978],\n",
              "        [1.3626, 0.7551]])"
            ]
          },
          "metadata": {
            "tags": []
          },
          "execution_count": 11
        }
      ]
    },
    {
      "cell_type": "code",
      "metadata": {
        "colab": {
          "base_uri": "https://localhost:8080/"
        },
        "id": "BiZLv56IwGnX",
        "outputId": "eb56303e-1b61-4da0-f6c3-b7ec6d5a66f1"
      },
      "source": [
        "#Muy comun que se cambian las dimensiones\n",
        "result.shape\n",
        "#Tambien podemos cambiarlo\n",
        "reshaped = result.view(4,1)\n",
        "reshaped"
      ],
      "execution_count": 16,
      "outputs": [
        {
          "output_type": "execute_result",
          "data": {
            "text/plain": [
              "tensor([[0.5791],\n",
              "        [0.6978],\n",
              "        [1.3626],\n",
              "        [0.7551]])"
            ]
          },
          "metadata": {
            "tags": []
          },
          "execution_count": 16
        }
      ]
    },
    {
      "cell_type": "code",
      "metadata": {
        "colab": {
          "base_uri": "https://localhost:8080/"
        },
        "id": "Yh5mREyjwNrW",
        "outputId": "e3f18983-4c68-4c74-a361-e221faf30e27"
      },
      "source": [
        "# con 'tensor' en minusculas podemos definir los valores que queremos en el tensor\n",
        "# Además si ponemos numeros con punto decimal decimos que son numero flotantes.\n",
        "points =  torch.tensor([[1.0,2.0],[3.0,4.0]])\n",
        "print(points)\n",
        "points[0][1]=2.5\n",
        "print(points)\n",
        "points.storage()"
      ],
      "execution_count": 20,
      "outputs": [
        {
          "output_type": "stream",
          "text": [
            "tensor([[1., 2.],\n",
            "        [3., 4.]])\n",
            "tensor([[1.0000, 2.5000],\n",
            "        [3.0000, 4.0000]])\n"
          ],
          "name": "stdout"
        },
        {
          "output_type": "execute_result",
          "data": {
            "text/plain": [
              " 1.0\n",
              " 2.5\n",
              " 3.0\n",
              " 4.0\n",
              "[torch.FloatStorage of size 4]"
            ]
          },
          "metadata": {
            "tags": []
          },
          "execution_count": 20
        }
      ]
    },
    {
      "cell_type": "code",
      "metadata": {
        "colab": {
          "base_uri": "https://localhost:8080/"
        },
        "id": "HJ3OBTV0wyk3",
        "outputId": "c2844dcf-3e28-420f-e1e2-156f5c6ba23d"
      },
      "source": [
        "points, points.stride()"
      ],
      "execution_count": 22,
      "outputs": [
        {
          "output_type": "execute_result",
          "data": {
            "text/plain": [
              "(tensor([[1.0000, 2.5000],\n",
              "         [3.0000, 4.0000]]), (2, 1))"
            ]
          },
          "metadata": {
            "tags": []
          },
          "execution_count": 22
        }
      ]
    },
    {
      "cell_type": "markdown",
      "metadata": {
        "id": "byDV-L8YygSI"
      },
      "source": [
        "El resultado de stride, de acuerdo a como se almacenan en memoria, nos dice el número de localidades de memoria para pasar de un renglon a otro."
      ]
    },
    {
      "cell_type": "code",
      "metadata": {
        "colab": {
          "base_uri": "https://localhost:8080/"
        },
        "id": "r7LckyrCye-1",
        "outputId": "bfe26b17-4801-4011-c19f-16c11260f3f1"
      },
      "source": [
        "#para transponer\n",
        "pt= points.t()\n",
        "#tambien cambia el stride\n",
        "pt, pt.stride()"
      ],
      "execution_count": 25,
      "outputs": [
        {
          "output_type": "execute_result",
          "data": {
            "text/plain": [
              "(tensor([[1.0000, 3.0000],\n",
              "         [2.5000, 4.0000]]), (1, 2))"
            ]
          },
          "metadata": {
            "tags": []
          },
          "execution_count": 25
        }
      ]
    },
    {
      "cell_type": "code",
      "metadata": {
        "colab": {
          "base_uri": "https://localhost:8080/"
        },
        "id": "VG3AElZJzdhl",
        "outputId": "736e2e7f-f40e-41a3-de75-00fa10e20dd8"
      },
      "source": [
        "tensor_x =  torch.tensor([1,2,4,5])\n",
        "print(tensor_x)\n",
        "#se agrega una dimension(aumentamos la caja) vertical\n",
        "print(torch.unsqueeze(tensor_x,1))\n",
        "\n",
        "#se agrega una dimension horizontal\n",
        "print(torch.unsqueeze(tensor_x,0))"
      ],
      "execution_count": 30,
      "outputs": [
        {
          "output_type": "stream",
          "text": [
            "tensor([1, 2, 4, 5])\n",
            "tensor([[1],\n",
            "        [2],\n",
            "        [4],\n",
            "        [5]])\n",
            "tensor([[1, 2, 4, 5]])\n"
          ],
          "name": "stdout"
        }
      ]
    },
    {
      "cell_type": "code",
      "metadata": {
        "colab": {
          "base_uri": "https://localhost:8080/"
        },
        "id": "JJKzKb5z0J8L",
        "outputId": "d0156461-e9a4-4235-f973-69b87a08d770"
      },
      "source": [
        "numpyArray = np.random.randn(2,2)\n",
        "#numpy a tensor\n",
        "torch.from_numpy(numpyArray)"
      ],
      "execution_count": 33,
      "outputs": [
        {
          "output_type": "execute_result",
          "data": {
            "text/plain": [
              "tensor([[-0.3131,  1.2771],\n",
              "        [ 0.0885,  0.8000]], dtype=torch.float64)"
            ]
          },
          "metadata": {
            "tags": []
          },
          "execution_count": 33
        }
      ]
    }
  ]
}